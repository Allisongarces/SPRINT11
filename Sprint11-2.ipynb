{
 "cells": [
  {
   "cell_type": "markdown",
   "id": "9dbeb68a",
   "metadata": {},
   "source": [
    "### Proyecto Final | Sprint 11 / 2\n",
    "#### Allison Garces"
   ]
  },
  {
   "cell_type": "code",
   "execution_count": 23,
   "id": "543b3be2",
   "metadata": {},
   "outputs": [],
   "source": [
    "#Importando librerias\n",
    "\n",
    "import pandas as pd\n",
    "import numpy as np\n",
    "import matplotlib.pyplot as plt\n",
    "import seaborn as sns\n",
    "from sklearn.model_selection import train_test_split, cross_val_score\n",
    "from sklearn.tree import DecisionTreeClassifier # Import Decision Tree Classifier\n",
    "from sklearn.model_selection import train_test_split # Import train_test_split function\n",
    "from sklearn import metrics #Import scikit-learn metrics module for accuracy calculation\n",
    "\n",
    "import warnings\n",
    "warnings.filterwarnings(\"ignore\")"
   ]
  },
  {
   "cell_type": "code",
   "execution_count": 2,
   "id": "32674bb9",
   "metadata": {},
   "outputs": [],
   "source": [
    "#Instituto Colombiano para la Evaluación de la Educación - ICFES (2022-1). Datalcfes. Saber 11 ç\n",
    "#https://www.icfes.gov.co/web/guest/data-icfes\n",
    "\n",
    "datos = pd.read_csv(\"Data_Icfes_SABER11_2022-1_v6.csv\", sep=\";\", encoding='latin-1')"
   ]
  },
  {
   "cell_type": "code",
   "execution_count": 5,
   "id": "400696f2",
   "metadata": {},
   "outputs": [
    {
     "data": {
      "text/html": [
       "<div>\n",
       "<style scoped>\n",
       "    .dataframe tbody tr th:only-of-type {\n",
       "        vertical-align: middle;\n",
       "    }\n",
       "\n",
       "    .dataframe tbody tr th {\n",
       "        vertical-align: top;\n",
       "    }\n",
       "\n",
       "    .dataframe thead th {\n",
       "        text-align: right;\n",
       "    }\n",
       "</style>\n",
       "<table border=\"1\" class=\"dataframe\">\n",
       "  <thead>\n",
       "    <tr style=\"text-align: right;\">\n",
       "      <th></th>\n",
       "      <th>FAMI_ESTRATOVIVIENDA</th>\n",
       "      <th>FAMI_TIENEINTERNET</th>\n",
       "      <th>FAMI_TIENESERVICIOTV</th>\n",
       "      <th>FAMI_TIENECOMPUTADOR</th>\n",
       "      <th>FAMI_TIENEHORNOMICROOGAS</th>\n",
       "      <th>FAMI_TIENEAUTOMOVIL</th>\n",
       "      <th>FAMI_TIENECONSOLAVIDEOJUEGOS</th>\n",
       "      <th>FAMI_NUMLIBROS</th>\n",
       "      <th>FAMI_SITUACIONECONOMICA</th>\n",
       "      <th>ESTU_DEDICACIONINTERNET</th>\n",
       "      <th>COLE_BILINGUE</th>\n",
       "      <th>COLE_JORNADA</th>\n",
       "      <th>PUNT_LECTURA_CRITICA</th>\n",
       "      <th>PUNT_MATEMATICAS</th>\n",
       "      <th>PUNT_C_NATURALES</th>\n",
       "      <th>PUNT_SOCIALES_CIUDADANAS</th>\n",
       "      <th>PUNT_INGLES</th>\n",
       "      <th>PUNT_GLOBAL</th>\n",
       "      <th>CALIFICACION</th>\n",
       "    </tr>\n",
       "  </thead>\n",
       "  <tbody>\n",
       "    <tr>\n",
       "      <th>13112</th>\n",
       "      <td>4</td>\n",
       "      <td>1</td>\n",
       "      <td>1</td>\n",
       "      <td>1</td>\n",
       "      <td>1</td>\n",
       "      <td>1</td>\n",
       "      <td>1</td>\n",
       "      <td>2</td>\n",
       "      <td>1</td>\n",
       "      <td>2</td>\n",
       "      <td>0</td>\n",
       "      <td>1</td>\n",
       "      <td>66</td>\n",
       "      <td>68</td>\n",
       "      <td>66</td>\n",
       "      <td>70</td>\n",
       "      <td>83</td>\n",
       "      <td>343</td>\n",
       "      <td>0</td>\n",
       "    </tr>\n",
       "    <tr>\n",
       "      <th>9498</th>\n",
       "      <td>2</td>\n",
       "      <td>1</td>\n",
       "      <td>1</td>\n",
       "      <td>1</td>\n",
       "      <td>1</td>\n",
       "      <td>0</td>\n",
       "      <td>0</td>\n",
       "      <td>0</td>\n",
       "      <td>1</td>\n",
       "      <td>2</td>\n",
       "      <td>0</td>\n",
       "      <td>1</td>\n",
       "      <td>53</td>\n",
       "      <td>54</td>\n",
       "      <td>47</td>\n",
       "      <td>29</td>\n",
       "      <td>42</td>\n",
       "      <td>227</td>\n",
       "      <td>2</td>\n",
       "    </tr>\n",
       "    <tr>\n",
       "      <th>10737</th>\n",
       "      <td>2</td>\n",
       "      <td>1</td>\n",
       "      <td>1</td>\n",
       "      <td>1</td>\n",
       "      <td>1</td>\n",
       "      <td>0</td>\n",
       "      <td>0</td>\n",
       "      <td>1</td>\n",
       "      <td>2</td>\n",
       "      <td>1</td>\n",
       "      <td>0</td>\n",
       "      <td>1</td>\n",
       "      <td>71</td>\n",
       "      <td>61</td>\n",
       "      <td>62</td>\n",
       "      <td>63</td>\n",
       "      <td>74</td>\n",
       "      <td>325</td>\n",
       "      <td>0</td>\n",
       "    </tr>\n",
       "    <tr>\n",
       "      <th>7351</th>\n",
       "      <td>6</td>\n",
       "      <td>1</td>\n",
       "      <td>1</td>\n",
       "      <td>1</td>\n",
       "      <td>1</td>\n",
       "      <td>1</td>\n",
       "      <td>1</td>\n",
       "      <td>3</td>\n",
       "      <td>2</td>\n",
       "      <td>1</td>\n",
       "      <td>1</td>\n",
       "      <td>5</td>\n",
       "      <td>62</td>\n",
       "      <td>62</td>\n",
       "      <td>58</td>\n",
       "      <td>58</td>\n",
       "      <td>74</td>\n",
       "      <td>305</td>\n",
       "      <td>0</td>\n",
       "    </tr>\n",
       "    <tr>\n",
       "      <th>6911</th>\n",
       "      <td>5</td>\n",
       "      <td>1</td>\n",
       "      <td>1</td>\n",
       "      <td>1</td>\n",
       "      <td>1</td>\n",
       "      <td>1</td>\n",
       "      <td>1</td>\n",
       "      <td>3</td>\n",
       "      <td>1</td>\n",
       "      <td>2</td>\n",
       "      <td>1</td>\n",
       "      <td>5</td>\n",
       "      <td>69</td>\n",
       "      <td>100</td>\n",
       "      <td>70</td>\n",
       "      <td>72</td>\n",
       "      <td>88</td>\n",
       "      <td>393</td>\n",
       "      <td>0</td>\n",
       "    </tr>\n",
       "    <tr>\n",
       "      <th>...</th>\n",
       "      <td>...</td>\n",
       "      <td>...</td>\n",
       "      <td>...</td>\n",
       "      <td>...</td>\n",
       "      <td>...</td>\n",
       "      <td>...</td>\n",
       "      <td>...</td>\n",
       "      <td>...</td>\n",
       "      <td>...</td>\n",
       "      <td>...</td>\n",
       "      <td>...</td>\n",
       "      <td>...</td>\n",
       "      <td>...</td>\n",
       "      <td>...</td>\n",
       "      <td>...</td>\n",
       "      <td>...</td>\n",
       "      <td>...</td>\n",
       "      <td>...</td>\n",
       "      <td>...</td>\n",
       "    </tr>\n",
       "    <tr>\n",
       "      <th>12067</th>\n",
       "      <td>3</td>\n",
       "      <td>0</td>\n",
       "      <td>1</td>\n",
       "      <td>1</td>\n",
       "      <td>1</td>\n",
       "      <td>0</td>\n",
       "      <td>0</td>\n",
       "      <td>0</td>\n",
       "      <td>1</td>\n",
       "      <td>0</td>\n",
       "      <td>0</td>\n",
       "      <td>5</td>\n",
       "      <td>57</td>\n",
       "      <td>59</td>\n",
       "      <td>47</td>\n",
       "      <td>56</td>\n",
       "      <td>59</td>\n",
       "      <td>275</td>\n",
       "      <td>0</td>\n",
       "    </tr>\n",
       "    <tr>\n",
       "      <th>1787</th>\n",
       "      <td>1</td>\n",
       "      <td>1</td>\n",
       "      <td>1</td>\n",
       "      <td>0</td>\n",
       "      <td>0</td>\n",
       "      <td>0</td>\n",
       "      <td>0</td>\n",
       "      <td>2</td>\n",
       "      <td>1</td>\n",
       "      <td>3</td>\n",
       "      <td>0</td>\n",
       "      <td>5</td>\n",
       "      <td>59</td>\n",
       "      <td>57</td>\n",
       "      <td>58</td>\n",
       "      <td>53</td>\n",
       "      <td>52</td>\n",
       "      <td>282</td>\n",
       "      <td>0</td>\n",
       "    </tr>\n",
       "    <tr>\n",
       "      <th>10715</th>\n",
       "      <td>3</td>\n",
       "      <td>1</td>\n",
       "      <td>1</td>\n",
       "      <td>1</td>\n",
       "      <td>1</td>\n",
       "      <td>1</td>\n",
       "      <td>1</td>\n",
       "      <td>1</td>\n",
       "      <td>2</td>\n",
       "      <td>2</td>\n",
       "      <td>0</td>\n",
       "      <td>1</td>\n",
       "      <td>67</td>\n",
       "      <td>72</td>\n",
       "      <td>65</td>\n",
       "      <td>69</td>\n",
       "      <td>64</td>\n",
       "      <td>340</td>\n",
       "      <td>0</td>\n",
       "    </tr>\n",
       "    <tr>\n",
       "      <th>9200</th>\n",
       "      <td>1</td>\n",
       "      <td>0</td>\n",
       "      <td>0</td>\n",
       "      <td>0</td>\n",
       "      <td>0</td>\n",
       "      <td>0</td>\n",
       "      <td>0</td>\n",
       "      <td>2</td>\n",
       "      <td>0</td>\n",
       "      <td>2</td>\n",
       "      <td>0</td>\n",
       "      <td>3</td>\n",
       "      <td>51</td>\n",
       "      <td>34</td>\n",
       "      <td>33</td>\n",
       "      <td>40</td>\n",
       "      <td>35</td>\n",
       "      <td>196</td>\n",
       "      <td>2</td>\n",
       "    </tr>\n",
       "    <tr>\n",
       "      <th>7660</th>\n",
       "      <td>5</td>\n",
       "      <td>1</td>\n",
       "      <td>1</td>\n",
       "      <td>1</td>\n",
       "      <td>1</td>\n",
       "      <td>1</td>\n",
       "      <td>1</td>\n",
       "      <td>2</td>\n",
       "      <td>2</td>\n",
       "      <td>2</td>\n",
       "      <td>0</td>\n",
       "      <td>5</td>\n",
       "      <td>51</td>\n",
       "      <td>67</td>\n",
       "      <td>66</td>\n",
       "      <td>56</td>\n",
       "      <td>73</td>\n",
       "      <td>305</td>\n",
       "      <td>0</td>\n",
       "    </tr>\n",
       "  </tbody>\n",
       "</table>\n",
       "<p>9338 rows × 19 columns</p>\n",
       "</div>"
      ],
      "text/plain": [
       "       FAMI_ESTRATOVIVIENDA  FAMI_TIENEINTERNET  FAMI_TIENESERVICIOTV  \\\n",
       "13112                     4                   1                     1   \n",
       "9498                      2                   1                     1   \n",
       "10737                     2                   1                     1   \n",
       "7351                      6                   1                     1   \n",
       "6911                      5                   1                     1   \n",
       "...                     ...                 ...                   ...   \n",
       "12067                     3                   0                     1   \n",
       "1787                      1                   1                     1   \n",
       "10715                     3                   1                     1   \n",
       "9200                      1                   0                     0   \n",
       "7660                      5                   1                     1   \n",
       "\n",
       "       FAMI_TIENECOMPUTADOR  FAMI_TIENEHORNOMICROOGAS  FAMI_TIENEAUTOMOVIL  \\\n",
       "13112                     1                         1                    1   \n",
       "9498                      1                         1                    0   \n",
       "10737                     1                         1                    0   \n",
       "7351                      1                         1                    1   \n",
       "6911                      1                         1                    1   \n",
       "...                     ...                       ...                  ...   \n",
       "12067                     1                         1                    0   \n",
       "1787                      0                         0                    0   \n",
       "10715                     1                         1                    1   \n",
       "9200                      0                         0                    0   \n",
       "7660                      1                         1                    1   \n",
       "\n",
       "       FAMI_TIENECONSOLAVIDEOJUEGOS  FAMI_NUMLIBROS  FAMI_SITUACIONECONOMICA  \\\n",
       "13112                             1               2                        1   \n",
       "9498                              0               0                        1   \n",
       "10737                             0               1                        2   \n",
       "7351                              1               3                        2   \n",
       "6911                              1               3                        1   \n",
       "...                             ...             ...                      ...   \n",
       "12067                             0               0                        1   \n",
       "1787                              0               2                        1   \n",
       "10715                             1               1                        2   \n",
       "9200                              0               2                        0   \n",
       "7660                              1               2                        2   \n",
       "\n",
       "       ESTU_DEDICACIONINTERNET  COLE_BILINGUE  COLE_JORNADA  \\\n",
       "13112                        2              0             1   \n",
       "9498                         2              0             1   \n",
       "10737                        1              0             1   \n",
       "7351                         1              1             5   \n",
       "6911                         2              1             5   \n",
       "...                        ...            ...           ...   \n",
       "12067                        0              0             5   \n",
       "1787                         3              0             5   \n",
       "10715                        2              0             1   \n",
       "9200                         2              0             3   \n",
       "7660                         2              0             5   \n",
       "\n",
       "       PUNT_LECTURA_CRITICA  PUNT_MATEMATICAS  PUNT_C_NATURALES  \\\n",
       "13112                    66                68                66   \n",
       "9498                     53                54                47   \n",
       "10737                    71                61                62   \n",
       "7351                     62                62                58   \n",
       "6911                     69               100                70   \n",
       "...                     ...               ...               ...   \n",
       "12067                    57                59                47   \n",
       "1787                     59                57                58   \n",
       "10715                    67                72                65   \n",
       "9200                     51                34                33   \n",
       "7660                     51                67                66   \n",
       "\n",
       "       PUNT_SOCIALES_CIUDADANAS  PUNT_INGLES  PUNT_GLOBAL  CALIFICACION  \n",
       "13112                        70           83          343             0  \n",
       "9498                         29           42          227             2  \n",
       "10737                        63           74          325             0  \n",
       "7351                         58           74          305             0  \n",
       "6911                         72           88          393             0  \n",
       "...                         ...          ...          ...           ...  \n",
       "12067                        56           59          275             0  \n",
       "1787                         53           52          282             0  \n",
       "10715                        69           64          340             0  \n",
       "9200                         40           35          196             2  \n",
       "7660                         56           73          305             0  \n",
       "\n",
       "[9338 rows x 19 columns]"
      ]
     },
     "execution_count": 5,
     "metadata": {},
     "output_type": "execute_result"
    }
   ],
   "source": [
    "df = pd.DataFrame(data=datos)\n",
    "df = df.sample(frac=0.7, random_state=1) #Una muestra aleatoria del 50% DataFrame y ramdom_state True\n",
    "df"
   ]
  },
  {
   "cell_type": "code",
   "execution_count": 21,
   "id": "60988239",
   "metadata": {},
   "outputs": [],
   "source": [
    "#Declarar vector de características y variable de destino\n",
    "X = df\n",
    "y = df['CALIFICACION']"
   ]
  },
  {
   "cell_type": "code",
   "execution_count": 7,
   "id": "a8adbe40",
   "metadata": {},
   "outputs": [
    {
     "data": {
      "text/plain": [
       "CALIFICACION\n",
       "0    10338\n",
       "1       22\n",
       "2     2980\n",
       "Name: CALIFICACION, dtype: int64"
      ]
     },
     "execution_count": 7,
     "metadata": {},
     "output_type": "execute_result"
    }
   ],
   "source": [
    "df1 = datos.groupby(('CALIFICACION')).CALIFICACION.count()\n",
    "df1"
   ]
  },
  {
   "cell_type": "code",
   "execution_count": 8,
   "id": "38014a62",
   "metadata": {},
   "outputs": [
    {
     "data": {
      "image/png": "[encoded data removed]",
      "text/plain": [
       "<Figure size 360x360 with 1 Axes>"
      ]
     },
     "metadata": {
      "needs_background": "light"
     },
     "output_type": "display_data"
    }
   ],
   "source": [
    "sns.catplot(x = \"CALIFICACION\", data = datos, kind = \"count\");"
   ]
  },
  {
   "cell_type": "code",
   "execution_count": 20,
   "id": "7e0d9cb5",
   "metadata": {},
   "outputs": [
    {
     "data": {
      "text/plain": [
       "<AxesSubplot:>"
      ]
     },
     "execution_count": 20,
     "metadata": {},
     "output_type": "execute_result"
    },
    {
     "data": {
      "image/png": "[encoded data removed]",
      "text/plain": [
       "<Figure size 432x288 with 2 Axes>"
      ]
     },
     "metadata": {
      "needs_background": "light"
     },
     "output_type": "display_data"
    }
   ],
   "source": [
    "#Tabla correlacion del Alcohol, Magnisio y Intensidad del Color\n",
    "correlation_matrix = df[['FAMI_ESTRATOVIVIENDA','FAMI_NUMLIBROS','COLE_JORNADA']].corr().round(2)\n",
    "sns.heatmap(data=correlation_matrix, annot=True)"
   ]
  },
  {
   "cell_type": "code",
   "execution_count": 25,
   "id": "e6854cd0",
   "metadata": {},
   "outputs": [
    {
     "name": "stdout",
     "output_type": "stream",
     "text": [
      "X_train:  (7003, 19)\n",
      "X_test  (2335, 19)\n",
      "y_train:  (7003,)\n",
      "y_test:  (2335,)\n"
     ]
    }
   ],
   "source": [
    "X_train, X_test, y_train, y_test = train_test_split(X, y, test_size=0.25, random_state=1) # 70% training and 30% test\n",
    "\n",
    "print(\"X_train: \", X_train.shape)\n",
    "print(\"X_test \",X_test.shape)\n",
    "print(\"y_train: \",y_train.shape)\n",
    "print(\"y_test: \",y_test.shape)"
   ]
  },
  {
   "cell_type": "code",
   "execution_count": 26,
   "id": "7016aa2d",
   "metadata": {},
   "outputs": [],
   "source": [
    "#Clasificación del árbol de decisión\n",
    "# Crear objeto clasificador de árbol de decisión\n",
    "clf = DecisionTreeClassifier()\n",
    "\n",
    "# Clasificador de árboles de decisión del tren\n",
    "clf = clf.fit(X_train,y_train)\n",
    "\n",
    "#Predecir la respuesta para el conjunto de datos de prueba\n",
    "y_pred = clf.predict(X_test)"
   ]
  },
  {
   "cell_type": "code",
   "execution_count": 27,
   "id": "5944e3c1",
   "metadata": {},
   "outputs": [
    {
     "name": "stdout",
     "output_type": "stream",
     "text": [
      "1.0\n"
     ]
    }
   ],
   "source": [
    "# calculate accuracy\n",
    "\n",
    "print(metrics.accuracy_score(y_test, y_pred))"
   ]
  },
  {
   "cell_type": "code",
   "execution_count": 30,
   "id": "f7ac5902",
   "metadata": {},
   "outputs": [
    {
     "data": {
      "image/png": "[encoded data removed]",
      "text/plain": [
       "<IPython.core.display.Image object>"
      ]
     },
     "execution_count": 30,
     "metadata": {},
     "output_type": "execute_result"
    }
   ],
   "source": [
    "from six import StringIO \n",
    "from IPython.display import Image \n",
    "from sklearn.tree import export_graphviz \n",
    "import pydotplus\n",
    "\n",
    "dot_data = StringIO() \n",
    "export_graphviz(clf, out_file=dot_data, filled=True, rounded=True, \n",
    "                special_characters=True, feature_names = df.columns,\n",
    "                class_names=['0','1','2']) \n",
    "graph = pydotplus.graph_from_dot_data(dot_data.getvalue()) \n",
    "graph.write_png('icfess.png') \n",
    "Image(graph.create_png())"
   ]
  },
  {
   "cell_type": "code",
   "execution_count": 31,
   "id": "10e49c5a",
   "metadata": {},
   "outputs": [],
   "source": [
    "# Crear objeto clasificador de árbol de decisión\n",
    "clf = DecisionTreeClassifier(criterion=\"entropy\")\n",
    "\n",
    "# Clasificador de árboles de decisión de tren\n",
    "clf = clf.fit(X_train,y_train)\n",
    "\n",
    "#Predecir la respuesta para el conjunto de datos de prueba\n",
    "y_pred = clf.predict(X_test)\n"
   ]
  },
  {
   "cell_type": "code",
   "execution_count": 32,
   "id": "e290c59d",
   "metadata": {},
   "outputs": [
    {
     "name": "stdout",
     "output_type": "stream",
     "text": [
      "1.0\n"
     ]
    }
   ],
   "source": [
    "# calculate accuracy\n",
    "\n",
    "print(metrics.accuracy_score(y_test, y_pred))"
   ]
  },
  {
   "cell_type": "code",
   "execution_count": 34,
   "id": "6942b324",
   "metadata": {},
   "outputs": [
    {
     "data": {
      "image/png": "[encoded data removed]",
      "text/plain": [
       "<IPython.core.display.Image object>"
      ]
     },
     "execution_count": 34,
     "metadata": {},
     "output_type": "execute_result"
    }
   ],
   "source": [
    "dot_data = StringIO() \n",
    "export_graphviz(clf, out_file=dot_data, filled=True, rounded=True, \n",
    "                special_characters=True, feature_names = df.columns,\n",
    "                class_names=['0','1','2']) \n",
    "graph = pydotplus.graph_from_dot_data(dot_data.getvalue()) \n",
    "graph.write_png('icfes2.png') \n",
    "Image(graph.create_png())"
   ]
  },
  {
   "cell_type": "code",
   "execution_count": 49,
   "id": "5825d4d2",
   "metadata": {},
   "outputs": [
    {
     "name": "stdout",
     "output_type": "stream",
     "text": [
      "X_train:  (7003, 19)\n",
      "X_test  (2335, 19)\n",
      "y_train:  (7003,)\n",
      "y_test:  (2335,)\n"
     ]
    }
   ],
   "source": [
    "X_train, X_test, y_train, y_test = train_test_split(X, y, test_size=0.25, random_state=1) # 70% training and 30% test\n",
    "\n",
    "print(\"X_train: \", X_train.shape)\n",
    "print(\"X_test \",X_test.shape)\n",
    "print(\"y_train: \",y_train.shape)\n",
    "print(\"y_test: \",y_test.shape)"
   ]
  },
  {
   "cell_type": "code",
   "execution_count": 50,
   "id": "63f6fb00",
   "metadata": {},
   "outputs": [],
   "source": [
    "from sklearn import svm\n",
    "\n",
    "#Crear un Clasificador svm\n",
    "clf = svm.SVC(kernel='linear') # Linear Kernel\n",
    "\n",
    "#Entrena al modelo usando los conjuntos de entrenamiento\n",
    "clf.fit(X_train, y_train)\n",
    "\n",
    "#Predecir la respuesta para el conjunto de datos de prueba\n",
    "y_pred = clf.predict(X_test)"
   ]
  },
  {
   "cell_type": "code",
   "execution_count": 51,
   "id": "63c80513",
   "metadata": {},
   "outputs": [
    {
     "name": "stdout",
     "output_type": "stream",
     "text": [
      "0.9995717344753747\n"
     ]
    }
   ],
   "source": [
    "print(metrics.accuracy_score(y_test, y_pred))"
   ]
  },
  {
   "cell_type": "code",
   "execution_count": 52,
   "id": "8f65ec0a",
   "metadata": {},
   "outputs": [],
   "source": [
    "# Creating  a confusion matrix,which compares the y_test and y_pred\n",
    "cm = metrics.confusion_matrix(y_test, y_pred)\n",
    "\n",
    "# Creating a dataframe for a array-formatted Confusion matrix,so it will be easy for plotting.\n",
    "cm_df = pd.DataFrame(cm,\n",
    "                     index = ['0','1','2'], \n",
    "                     columns = ['0','1','2'])"
   ]
  },
  {
   "cell_type": "code",
   "execution_count": 53,
   "id": "b4e0398b",
   "metadata": {},
   "outputs": [
    {
     "data": {
      "image/png": "[encoded data removed]",
      "text/plain": [
       "<Figure size 360x288 with 2 Axes>"
      ]
     },
     "metadata": {
      "needs_background": "light"
     },
     "output_type": "display_data"
    }
   ],
   "source": [
    "#Plotting the confusion matrix\n",
    "plt.figure(figsize=(5,4))\n",
    "sns.heatmap(cm_df, annot=True)\n",
    "plt.title('Confusion Matrix')\n",
    "plt.ylabel('Actal Values')\n",
    "plt.xlabel('Predicted Values')\n",
    "plt.show()"
   ]
  },
  {
   "cell_type": "code",
   "execution_count": 64,
   "id": "60111ae5",
   "metadata": {},
   "outputs": [
    {
     "name": "stdout",
     "output_type": "stream",
     "text": [
      "                              precision    recall  f1-score   support\n",
      "\n",
      "        FAMI_ESTRATOVIVIENDA       1.00      1.00      1.00      1799\n",
      "          FAMI_TIENEINTERNET       1.00      1.00      1.00       532\n",
      "        FAMI_TIENESERVICIOTV       1.00      1.00      1.00      1799\n",
      "        FAMI_TIENECOMPUTADOR       1.00      1.00      1.00      1799\n",
      "    FAMI_TIENEHORNOMICROOGAS       1.00      1.00      1.00      1799\n",
      "         FAMI_TIENEAUTOMOVIL       1.00      1.00      1.00      1799\n",
      "FAMI_TIENECONSOLAVIDEOJUEGOS       1.00      1.00      1.00      1799\n",
      "              FAMI_NUMLIBROS       1.00      1.00      1.00      1799\n",
      "     FAMI_SITUACIONECONOMICA       1.00      1.00      1.00       532\n",
      "     ESTU_DEDICACIONINTERNET       1.00      1.00      1.00       532\n",
      "               COLE_BILINGUE       1.00      1.00      1.00      1799\n",
      "                COLE_JORNADA       1.00      1.00      1.00      1799\n",
      "        PUNT_LECTURA_CRITICA       1.00      1.00      1.00      1799\n",
      "            PUNT_MATEMATICAS       1.00      1.00      1.00       532\n",
      "            PUNT_C_NATURALES       1.00      1.00      1.00      1799\n",
      "    PUNT_SOCIALES_CIUDADANAS       1.00      1.00      1.00      1799\n",
      "                 PUNT_INGLES       1.00      1.00      1.00      1799\n",
      "                 PUNT_GLOBAL       1.00      1.00      1.00      1799\n",
      "                CALIFICACION       1.00      1.00      1.00       532\n",
      "\n",
      "                    accuracy                           1.00  14134032\n",
      "                   macro avg       1.00      1.00      1.00  14134032\n",
      "                weighted avg       1.00      1.00      1.00  14134032\n",
      "\n"
     ]
    }
   ],
   "source": [
    "from sklearn.metrics import classification_report\n",
    "report = classification_report(y_test, y_pred, labels=y, target_names=X)\n",
    "print(report)"
   ]
  },
  {
   "cell_type": "code",
   "execution_count": 65,
   "id": "024bd9d1",
   "metadata": {},
   "outputs": [
    {
     "data": {
      "text/plain": [
       "array([1.        , 1.        , 1.        , 0.99928571, 1.        ])"
      ]
     },
     "execution_count": 65,
     "metadata": {},
     "output_type": "execute_result"
    }
   ],
   "source": [
    "# Aplicar validación cruzada para evaluar los resultados.\n",
    "scores=cross_val_score(clf,X_train,y_train,cv=5)\n",
    "scores"
   ]
  },
  {
   "cell_type": "code",
   "execution_count": 67,
   "id": "02cd2c59",
   "metadata": {},
   "outputs": [
    {
     "name": "stdout",
     "output_type": "stream",
     "text": [
      "Mean: 1.00 ; Standard Dev.: 0.00)\n"
     ]
    }
   ],
   "source": [
    "#Calcular la media y la desviación estándar de la validación\n",
    "print(\"Mean: %0.2f ; Standard Dev.: %0.2f)\" % (scores.mean(), scores.std()))"
   ]
  },
  {
   "cell_type": "code",
   "execution_count": null,
   "id": "93d63ad1",
   "metadata": {},
   "outputs": [],
   "source": []
  }
 ],
 "metadata": {
  "kernelspec": {
   "display_name": "Python 3 (ipykernel)",
   "language": "python",
   "name": "python3"
  },
  "language_info": {
   "codemirror_mode": {
    "name": "ipython",
    "version": 3
   },
   "file_extension": ".py",
   "mimetype": "text/x-python",
   "name": "python",
   "nbconvert_exporter": "python",
   "pygments_lexer": "ipython3",
   "version": "3.9.12"
  }
 },
 "nbformat": 4,
 "nbformat_minor": 5
}
